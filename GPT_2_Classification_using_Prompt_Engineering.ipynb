{
  "nbformat": 4,
  "nbformat_minor": 0,
  "metadata": {
    "colab": {
      "provenance": [],
      "gpuType": "T4"
    },
    "kernelspec": {
      "name": "python3",
      "display_name": "Python 3"
    },
    "language_info": {
      "name": "python"
    },
    "accelerator": "GPU"
  },
  "cells": [
    {
      "cell_type": "code",
      "execution_count": 85,
      "metadata": {
        "colab": {
          "base_uri": "https://localhost:8080/"
        },
        "id": "u7WbyLR_1Z7E",
        "outputId": "3d0a3ab2-c052-49cc-bd04-f55c95333203"
      },
      "outputs": [
        {
          "output_type": "stream",
          "name": "stdout",
          "text": [
            "Requirement already satisfied: transformers in /usr/local/lib/python3.11/dist-packages (4.55.2)\n",
            "Requirement already satisfied: filelock in /usr/local/lib/python3.11/dist-packages (from transformers) (3.18.0)\n",
            "Requirement already satisfied: huggingface-hub<1.0,>=0.34.0 in /usr/local/lib/python3.11/dist-packages (from transformers) (0.34.4)\n",
            "Requirement already satisfied: numpy>=1.17 in /usr/local/lib/python3.11/dist-packages (from transformers) (2.0.2)\n",
            "Requirement already satisfied: packaging>=20.0 in /usr/local/lib/python3.11/dist-packages (from transformers) (25.0)\n",
            "Requirement already satisfied: pyyaml>=5.1 in /usr/local/lib/python3.11/dist-packages (from transformers) (6.0.2)\n",
            "Requirement already satisfied: regex!=2019.12.17 in /usr/local/lib/python3.11/dist-packages (from transformers) (2024.11.6)\n",
            "Requirement already satisfied: requests in /usr/local/lib/python3.11/dist-packages (from transformers) (2.32.3)\n",
            "Requirement already satisfied: tokenizers<0.22,>=0.21 in /usr/local/lib/python3.11/dist-packages (from transformers) (0.21.4)\n",
            "Requirement already satisfied: safetensors>=0.4.3 in /usr/local/lib/python3.11/dist-packages (from transformers) (0.6.2)\n",
            "Requirement already satisfied: tqdm>=4.27 in /usr/local/lib/python3.11/dist-packages (from transformers) (4.67.1)\n",
            "Requirement already satisfied: fsspec>=2023.5.0 in /usr/local/lib/python3.11/dist-packages (from huggingface-hub<1.0,>=0.34.0->transformers) (2025.3.0)\n",
            "Requirement already satisfied: typing-extensions>=3.7.4.3 in /usr/local/lib/python3.11/dist-packages (from huggingface-hub<1.0,>=0.34.0->transformers) (4.14.1)\n",
            "Requirement already satisfied: hf-xet<2.0.0,>=1.1.3 in /usr/local/lib/python3.11/dist-packages (from huggingface-hub<1.0,>=0.34.0->transformers) (1.1.7)\n",
            "Requirement already satisfied: charset-normalizer<4,>=2 in /usr/local/lib/python3.11/dist-packages (from requests->transformers) (3.4.3)\n",
            "Requirement already satisfied: idna<4,>=2.5 in /usr/local/lib/python3.11/dist-packages (from requests->transformers) (3.10)\n",
            "Requirement already satisfied: urllib3<3,>=1.21.1 in /usr/local/lib/python3.11/dist-packages (from requests->transformers) (2.5.0)\n",
            "Requirement already satisfied: certifi>=2017.4.17 in /usr/local/lib/python3.11/dist-packages (from requests->transformers) (2025.8.3)\n"
          ]
        }
      ],
      "source": [
        "!pip install -U transformers"
      ]
    },
    {
      "cell_type": "code",
      "source": [
        "from transformers import pipeline\n",
        "from transformers import AutoTokenizer, AutoModelForCausalLM"
      ],
      "metadata": {
        "id": "R6v08Xu_1f7v"
      },
      "execution_count": 86,
      "outputs": []
    },
    {
      "cell_type": "code",
      "source": [
        "tokenizer = AutoTokenizer.from_pretrained(\"openai-community/gpt2\")\n",
        "model = AutoModelForCausalLM.from_pretrained(\"openai-community/gpt2\")"
      ],
      "metadata": {
        "id": "wZbhr2dQ2WBb"
      },
      "execution_count": 87,
      "outputs": []
    },
    {
      "cell_type": "code",
      "source": [
        "examples = [\n",
        "    (\"The movie was fantastic and full of thrilling moments!\", \"Positive\"),\n",
        "    (\"The plot was boring and the acting was terrible.\", \"Negative\"),\n",
        "    (\"Absolutely loved the soundtrack and the performances!\", \"Positive\"),\n",
        "]"
      ],
      "metadata": {
        "id": "Q5CgEXth2da6"
      },
      "execution_count": 88,
      "outputs": []
    },
    {
      "cell_type": "code",
      "source": [
        "def build_prompt(review, shots=1):\n",
        "    prompt = \"Classify the sentiment of the following reviews as Positive or Negative.\\n\\n\"\n",
        "    for i in range(min(shots, len(examples))):\n",
        "        ex_text, ex_label = examples[i]\n",
        "        prompt += f\"Review: {ex_text}\\nSentiment: {ex_label}\\n\\n\"\n",
        "\n",
        "    prompt += f\"Review: {review}\\nSentiment:\"\n",
        "    return prompt"
      ],
      "metadata": {
        "id": "EGASy3W22tzC"
      },
      "execution_count": 89,
      "outputs": []
    },
    {
      "cell_type": "code",
      "source": [
        "def classify_review(review, shots=1, max_new_tokens=10):\n",
        "    prompt = build_prompt(review, shots)\n",
        "    inputs = tokenizer(prompt, return_tensors=\"pt\")\n",
        "\n",
        "    outputs = model.generate(\n",
        "        **inputs,\n",
        "        max_new_tokens=max_new_tokens,\n",
        "        pad_token_id=tokenizer.eos_token_id,\n",
        "        do_sample=False\n",
        "    )\n",
        "\n",
        "    generated_text = tokenizer.decode(outputs[0], skip_special_tokens=True)\n",
        "    pred_text = generated_text[len(prompt):].strip().lower()\n",
        "\n",
        "    if \"positive\" in pred_text:\n",
        "        return \"Positive\"\n",
        "    elif \"negative\" in pred_text:\n",
        "        return \"Negative\"\n",
        "    else:\n",
        "        if pred_text.startswith(\"p\"):\n",
        "            return \"Positive\"\n",
        "        elif pred_text.startswith(\"n\"):\n",
        "            return \"Negative\"\n",
        "        else:\n",
        "            return \"Negative\""
      ],
      "metadata": {
        "id": "ahkrPozY25qd"
      },
      "execution_count": 90,
      "outputs": []
    },
    {
      "cell_type": "code",
      "source": [
        "reviews = [\n",
        "    \"I loved the movie, it was fantastic!\",\n",
        "    \"The movie was amazing and full of surprises!\",\n",
        "    \"The soundtrack was beautiful and inspiring.\",\n",
        "    \"The plot was boring and uninteresting.\"\n",
        "]"
      ],
      "metadata": {
        "id": "MMztkkQU28zT"
      },
      "execution_count": 91,
      "outputs": []
    },
    {
      "cell_type": "code",
      "source": [
        "for r in reviews:\n",
        "    print(\"------\")\n",
        "    for s in [1, 2, 3]:\n",
        "        print(f\"{s}-shot:\", classify_review(r, shots=s))"
      ],
      "metadata": {
        "colab": {
          "base_uri": "https://localhost:8080/"
        },
        "id": "Za0InavQ5hgZ",
        "outputId": "86f51191-44cf-43bd-8b1c-2d9fd01b6059"
      },
      "execution_count": 92,
      "outputs": [
        {
          "output_type": "stream",
          "name": "stdout",
          "text": [
            "------\n",
            "1-shot: Negative\n",
            "2-shot: Negative\n",
            "3-shot: Negative\n",
            "------\n",
            "1-shot: Negative\n",
            "2-shot: Negative\n",
            "3-shot: Negative\n",
            "------\n",
            "1-shot: Negative\n",
            "2-shot: Negative\n",
            "3-shot: Negative\n",
            "------\n",
            "1-shot: Negative\n",
            "2-shot: Negative\n",
            "3-shot: Negative\n"
          ]
        }
      ]
    }
  ]
}